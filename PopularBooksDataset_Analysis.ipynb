{
 "cells": [
  {
   "cell_type": "code",
   "execution_count": 3,
   "id": "dd73a971-b920-45e2-bb8a-25251bbdbb00",
   "metadata": {},
   "outputs": [],
   "source": [
    "import pandas as pd\n",
    "\n",
    "# Load the dataset\n",
    "data_url = \"popular_books_dataset.csv\"  # Replace this with the URL to your dataset"
   ]
  },
  {
   "cell_type": "code",
   "execution_count": 4,
   "id": "589b3527-0b4e-4bfe-87f7-b9f3176a6160",
   "metadata": {},
   "outputs": [],
   "source": [
    "# Load data into a DataFrame\n",
    "df = pd.read_csv(data_url)"
   ]
  },
  {
   "cell_type": "code",
   "execution_count": 5,
   "id": "d4d86fc4-535d-4f68-a870-a722b5363aa3",
   "metadata": {},
   "outputs": [],
   "source": [
    "# Data preprocessing\n",
    "# Drop irrelevant columns\n",
    "columns_to_drop = [\"best_book_id\", \"work_id\", \"isbn\", \"isbn13\", \"image_url\", \"small_image_url\"]\n",
    "df = df.drop(columns=columns_to_drop)\n",
    "\n",
    "# Drop rows with missing values\n",
    "df = df.dropna()\n",
    "\n",
    "# Convert original_publication_year to numeric (if not already)\n",
    "df[\"original_publication_year\"] = pd.to_numeric(df[\"original_publication_year\"], errors=\"coerce\")\n",
    "\n",
    "# Filter the dataset to focus on the Harry Potter series\n",
    "harry_potter_books = df[df[\"title\"].str.contains(\"Harry Potter\")]\n",
    "\n",
    "# Further preprocessing\n",
    "# Remove duplicate rows based on title\n",
    "harry_potter_books = harry_potter_books.drop_duplicates(subset=[\"title\"])\n",
    "\n",
    "# Remove outliers based on ratings count\n",
    "q_low = harry_potter_books[\"ratings_count\"].quantile(0.01)\n",
    "q_high = harry_potter_books[\"ratings_count\"].quantile(0.99)\n",
    "harry_potter_books = harry_potter_books[(harry_potter_books[\"ratings_count\"] >= q_low) & (harry_potter_books[\"ratings_count\"] <= q_high)]"
   ]
  },
  {
   "cell_type": "code",
   "execution_count": 6,
   "id": "4cecc3b6-3d8d-4e56-8799-721c5e2fe852",
   "metadata": {},
   "outputs": [],
   "source": [
    "# Analysis\n",
    "# Find the most selling book within the Harry Potter series\n",
    "most_selling_book = harry_potter_books.loc[harry_potter_books[\"ratings_count\"].idxmax()]\n",
    "\n",
    "# Calculate the average rating of the Harry Potter books\n",
    "average_rating = harry_potter_books[\"average_rating\"].mean()"
   ]
  },
  {
   "cell_type": "code",
   "execution_count": 7,
   "id": "c04b89b5-1723-4e72-9db6-0284e5707956",
   "metadata": {},
   "outputs": [
    {
     "name": "stdout",
     "output_type": "stream",
     "text": [
      "Most Selling Book in the Harry Potter Series:\n",
      "title             Harry Potter and the Prisoner of Azkaban (Harr...\n",
      "authors                     J.K. Rowling, Mary GrandPré, Rufus Beck\n",
      "average_rating                                                 4.53\n",
      "ratings_count                                               1832823\n",
      "Name: 6, dtype: object\n",
      "\n",
      "Average Rating of the Harry Potter Books: 4.563750000000001\n"
     ]
    }
   ],
   "source": [
    "# Print results\n",
    "print(\"Most Selling Book in the Harry Potter Series:\")\n",
    "print(most_selling_book[[\"title\", \"authors\", \"average_rating\", \"ratings_count\"]])\n",
    "\n",
    "print(\"\\nAverage Rating of the Harry Potter Books:\", average_rating)"
   ]
  }
 ],
 "metadata": {
  "kernelspec": {
   "display_name": "Python 3 (ipykernel)",
   "language": "python",
   "name": "python3"
  },
  "language_info": {
   "codemirror_mode": {
    "name": "ipython",
    "version": 3
   },
   "file_extension": ".py",
   "mimetype": "text/x-python",
   "name": "python",
   "nbconvert_exporter": "python",
   "pygments_lexer": "ipython3",
   "version": "3.8.19"
  }
 },
 "nbformat": 4,
 "nbformat_minor": 5
}
